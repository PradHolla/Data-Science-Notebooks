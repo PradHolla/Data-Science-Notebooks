{
  "nbformat": 4,
  "nbformat_minor": 0,
  "metadata": {
    "kernelspec": {
      "display_name": "Python 3",
      "language": "python",
      "name": "python3"
    },
    "language_info": {
      "codemirror_mode": {
        "name": "ipython",
        "version": 3
      },
      "file_extension": ".py",
      "mimetype": "text/x-python",
      "name": "python",
      "nbconvert_exporter": "python",
      "pygments_lexer": "ipython3",
      "version": "3.8.5"
    },
    "colab": {
      "name": "BERT_email_classification-handle-imbalance.ipynb",
      "provenance": [],
      "collapsed_sections": []
    },
    "accelerator": "GPU"
  },
  "cells": [
    {
      "cell_type": "code",
      "metadata": {
        "id": "ys-IFxvGYunS"
      },
      "source": [
        "!pip install tensorflow_text"
      ],
      "execution_count": 2,
      "outputs": []
    },
    {
      "cell_type": "code",
      "metadata": {
        "id": "J-JfCkhsYi-x"
      },
      "source": [
        "import tensorflow as tf\n",
        "import tensorflow_hub as hub\n",
        "import tensorflow_text as text"
      ],
      "execution_count": 3,
      "outputs": []
    },
    {
      "cell_type": "code",
      "metadata": {
        "colab": {
          "base_uri": "https://localhost:8080/",
          "height": 206
        },
        "id": "92hvTDJqYi-z",
        "outputId": "e6d26cb6-b282-4ffd-ae7f-a7b5e4504e02"
      },
      "source": [
        "import pandas as pd\n",
        "\n",
        "df = pd.read_csv(\"spam.csv\")\n",
        "df.head(5)"
      ],
      "execution_count": 4,
      "outputs": [
        {
          "output_type": "execute_result",
          "data": {
            "text/html": [
              "<div>\n",
              "<style scoped>\n",
              "    .dataframe tbody tr th:only-of-type {\n",
              "        vertical-align: middle;\n",
              "    }\n",
              "\n",
              "    .dataframe tbody tr th {\n",
              "        vertical-align: top;\n",
              "    }\n",
              "\n",
              "    .dataframe thead th {\n",
              "        text-align: right;\n",
              "    }\n",
              "</style>\n",
              "<table border=\"1\" class=\"dataframe\">\n",
              "  <thead>\n",
              "    <tr style=\"text-align: right;\">\n",
              "      <th></th>\n",
              "      <th>Category</th>\n",
              "      <th>Message</th>\n",
              "    </tr>\n",
              "  </thead>\n",
              "  <tbody>\n",
              "    <tr>\n",
              "      <th>0</th>\n",
              "      <td>ham</td>\n",
              "      <td>Go until jurong point, crazy.. Available only ...</td>\n",
              "    </tr>\n",
              "    <tr>\n",
              "      <th>1</th>\n",
              "      <td>ham</td>\n",
              "      <td>Ok lar... Joking wif u oni...</td>\n",
              "    </tr>\n",
              "    <tr>\n",
              "      <th>2</th>\n",
              "      <td>spam</td>\n",
              "      <td>Free entry in 2 a wkly comp to win FA Cup fina...</td>\n",
              "    </tr>\n",
              "    <tr>\n",
              "      <th>3</th>\n",
              "      <td>ham</td>\n",
              "      <td>U dun say so early hor... U c already then say...</td>\n",
              "    </tr>\n",
              "    <tr>\n",
              "      <th>4</th>\n",
              "      <td>ham</td>\n",
              "      <td>Nah I don't think he goes to usf, he lives aro...</td>\n",
              "    </tr>\n",
              "  </tbody>\n",
              "</table>\n",
              "</div>"
            ],
            "text/plain": [
              "  Category                                            Message\n",
              "0      ham  Go until jurong point, crazy.. Available only ...\n",
              "1      ham                      Ok lar... Joking wif u oni...\n",
              "2     spam  Free entry in 2 a wkly comp to win FA Cup fina...\n",
              "3      ham  U dun say so early hor... U c already then say...\n",
              "4      ham  Nah I don't think he goes to usf, he lives aro..."
            ]
          },
          "metadata": {},
          "execution_count": 4
        }
      ]
    },
    {
      "cell_type": "code",
      "metadata": {
        "scrolled": true,
        "colab": {
          "base_uri": "https://localhost:8080/",
          "height": 175
        },
        "id": "jEfviiekYi-z",
        "outputId": "906cf604-fe0a-48da-e7d2-b8cbf11ac5f4"
      },
      "source": [
        "df.groupby('Category').describe()"
      ],
      "execution_count": 6,
      "outputs": [
        {
          "output_type": "execute_result",
          "data": {
            "text/html": [
              "<div>\n",
              "<style scoped>\n",
              "    .dataframe tbody tr th:only-of-type {\n",
              "        vertical-align: middle;\n",
              "    }\n",
              "\n",
              "    .dataframe tbody tr th {\n",
              "        vertical-align: top;\n",
              "    }\n",
              "\n",
              "    .dataframe thead tr th {\n",
              "        text-align: left;\n",
              "    }\n",
              "\n",
              "    .dataframe thead tr:last-of-type th {\n",
              "        text-align: right;\n",
              "    }\n",
              "</style>\n",
              "<table border=\"1\" class=\"dataframe\">\n",
              "  <thead>\n",
              "    <tr>\n",
              "      <th></th>\n",
              "      <th colspan=\"4\" halign=\"left\">Message</th>\n",
              "    </tr>\n",
              "    <tr>\n",
              "      <th></th>\n",
              "      <th>count</th>\n",
              "      <th>unique</th>\n",
              "      <th>top</th>\n",
              "      <th>freq</th>\n",
              "    </tr>\n",
              "    <tr>\n",
              "      <th>Category</th>\n",
              "      <th></th>\n",
              "      <th></th>\n",
              "      <th></th>\n",
              "      <th></th>\n",
              "    </tr>\n",
              "  </thead>\n",
              "  <tbody>\n",
              "    <tr>\n",
              "      <th>ham</th>\n",
              "      <td>4825</td>\n",
              "      <td>4516</td>\n",
              "      <td>Sorry, I'll call later</td>\n",
              "      <td>30</td>\n",
              "    </tr>\n",
              "    <tr>\n",
              "      <th>spam</th>\n",
              "      <td>747</td>\n",
              "      <td>641</td>\n",
              "      <td>Please call our customer service representativ...</td>\n",
              "      <td>4</td>\n",
              "    </tr>\n",
              "  </tbody>\n",
              "</table>\n",
              "</div>"
            ],
            "text/plain": [
              "         Message                                                               \n",
              "           count unique                                                top freq\n",
              "Category                                                                       \n",
              "ham         4825   4516                             Sorry, I'll call later   30\n",
              "spam         747    641  Please call our customer service representativ...    4"
            ]
          },
          "metadata": {},
          "execution_count": 6
        }
      ]
    },
    {
      "cell_type": "code",
      "metadata": {
        "colab": {
          "base_uri": "https://localhost:8080/"
        },
        "id": "GLINxUQzYi-0",
        "outputId": "8e00e5f8-2688-41c0-bee1-22afd8a79044"
      },
      "source": [
        "df['Category'].value_counts()"
      ],
      "execution_count": 7,
      "outputs": [
        {
          "output_type": "execute_result",
          "data": {
            "text/plain": [
              "ham     4825\n",
              "spam     747\n",
              "Name: Category, dtype: int64"
            ]
          },
          "metadata": {},
          "execution_count": 7
        }
      ]
    },
    {
      "cell_type": "markdown",
      "metadata": {
        "id": "_ufYYFJJYi-1"
      },
      "source": [
        "**15% spam emails, 85% ham emails: This indicates class imbalance**"
      ]
    },
    {
      "cell_type": "code",
      "metadata": {
        "colab": {
          "base_uri": "https://localhost:8080/"
        },
        "id": "g62fEn0rYi-1",
        "outputId": "efac29b8-3d7d-4ab9-a6fc-a081255aa7c0"
      },
      "source": [
        "df_spam = df[df['Category']=='spam']\n",
        "df_spam.shape"
      ],
      "execution_count": 8,
      "outputs": [
        {
          "output_type": "execute_result",
          "data": {
            "text/plain": [
              "(747, 2)"
            ]
          },
          "metadata": {},
          "execution_count": 8
        }
      ]
    },
    {
      "cell_type": "code",
      "metadata": {
        "colab": {
          "base_uri": "https://localhost:8080/"
        },
        "id": "HiZ8CiliYi-2",
        "outputId": "2a99c86d-ec40-4d19-8a15-11b8ebd25627"
      },
      "source": [
        "df_ham = df[df['Category']=='ham']\n",
        "df_ham.shape"
      ],
      "execution_count": 9,
      "outputs": [
        {
          "output_type": "execute_result",
          "data": {
            "text/plain": [
              "(4825, 2)"
            ]
          },
          "metadata": {},
          "execution_count": 9
        }
      ]
    },
    {
      "cell_type": "code",
      "metadata": {
        "colab": {
          "base_uri": "https://localhost:8080/"
        },
        "id": "le_ZwUA1Yi-3",
        "outputId": "2bb75ae6-bc5a-420f-9cfc-488256378c06"
      },
      "source": [
        "df_ham_downsampled = df_ham.sample(df_spam.shape[0])\n",
        "df_ham_downsampled.shape"
      ],
      "execution_count": 10,
      "outputs": [
        {
          "output_type": "execute_result",
          "data": {
            "text/plain": [
              "(747, 2)"
            ]
          },
          "metadata": {},
          "execution_count": 10
        }
      ]
    },
    {
      "cell_type": "code",
      "metadata": {
        "colab": {
          "base_uri": "https://localhost:8080/"
        },
        "id": "yU3Ldv6FYi-3",
        "outputId": "8d425c1e-fbd1-4b5f-aea0-b56c5a07e19a"
      },
      "source": [
        "df_balanced = pd.concat([df_ham_downsampled, df_spam])\n",
        "df_balanced.shape"
      ],
      "execution_count": 11,
      "outputs": [
        {
          "output_type": "execute_result",
          "data": {
            "text/plain": [
              "(1494, 2)"
            ]
          },
          "metadata": {},
          "execution_count": 11
        }
      ]
    },
    {
      "cell_type": "code",
      "metadata": {
        "colab": {
          "base_uri": "https://localhost:8080/"
        },
        "id": "RPmbPMkgYi-3",
        "outputId": "8d624309-9c8b-4595-d926-aee2d688290f"
      },
      "source": [
        "df_balanced['Category'].value_counts()"
      ],
      "execution_count": 12,
      "outputs": [
        {
          "output_type": "execute_result",
          "data": {
            "text/plain": [
              "ham     747\n",
              "spam    747\n",
              "Name: Category, dtype: int64"
            ]
          },
          "metadata": {},
          "execution_count": 12
        }
      ]
    },
    {
      "cell_type": "code",
      "metadata": {
        "scrolled": true,
        "colab": {
          "base_uri": "https://localhost:8080/",
          "height": 206
        },
        "id": "ecY4arUZYi-4",
        "outputId": "57d8fa14-be6f-4360-d953-38baac8cdc05"
      },
      "source": [
        "df_balanced['spam']=df_balanced['Category'].apply(lambda x: 1 if x=='spam' else 0)\n",
        "df_balanced.sample(5)"
      ],
      "execution_count": 13,
      "outputs": [
        {
          "output_type": "execute_result",
          "data": {
            "text/html": [
              "<div>\n",
              "<style scoped>\n",
              "    .dataframe tbody tr th:only-of-type {\n",
              "        vertical-align: middle;\n",
              "    }\n",
              "\n",
              "    .dataframe tbody tr th {\n",
              "        vertical-align: top;\n",
              "    }\n",
              "\n",
              "    .dataframe thead th {\n",
              "        text-align: right;\n",
              "    }\n",
              "</style>\n",
              "<table border=\"1\" class=\"dataframe\">\n",
              "  <thead>\n",
              "    <tr style=\"text-align: right;\">\n",
              "      <th></th>\n",
              "      <th>Category</th>\n",
              "      <th>Message</th>\n",
              "      <th>spam</th>\n",
              "    </tr>\n",
              "  </thead>\n",
              "  <tbody>\n",
              "    <tr>\n",
              "      <th>4460</th>\n",
              "      <td>spam</td>\n",
              "      <td>Welcome to UK-mobile-date this msg is FREE giv...</td>\n",
              "      <td>1</td>\n",
              "    </tr>\n",
              "    <tr>\n",
              "      <th>673</th>\n",
              "      <td>spam</td>\n",
              "      <td>Get ur 1st RINGTONE FREE NOW! Reply to this ms...</td>\n",
              "      <td>1</td>\n",
              "    </tr>\n",
              "    <tr>\n",
              "      <th>1263</th>\n",
              "      <td>spam</td>\n",
              "      <td>Hungry gay guys feeling hungry and up 4 it, no...</td>\n",
              "      <td>1</td>\n",
              "    </tr>\n",
              "    <tr>\n",
              "      <th>474</th>\n",
              "      <td>spam</td>\n",
              "      <td>Want 2 get laid tonight? Want real Dogging loc...</td>\n",
              "      <td>1</td>\n",
              "    </tr>\n",
              "    <tr>\n",
              "      <th>1022</th>\n",
              "      <td>spam</td>\n",
              "      <td>Guess what! Somebody you know secretly fancies...</td>\n",
              "      <td>1</td>\n",
              "    </tr>\n",
              "  </tbody>\n",
              "</table>\n",
              "</div>"
            ],
            "text/plain": [
              "     Category                                            Message  spam\n",
              "4460     spam  Welcome to UK-mobile-date this msg is FREE giv...     1\n",
              "673      spam  Get ur 1st RINGTONE FREE NOW! Reply to this ms...     1\n",
              "1263     spam  Hungry gay guys feeling hungry and up 4 it, no...     1\n",
              "474      spam  Want 2 get laid tonight? Want real Dogging loc...     1\n",
              "1022     spam  Guess what! Somebody you know secretly fancies...     1"
            ]
          },
          "metadata": {},
          "execution_count": 13
        }
      ]
    },
    {
      "cell_type": "markdown",
      "metadata": {
        "id": "LG9COsiKYi-4"
      },
      "source": [
        "<h4>Split it into training and test data set</h4>"
      ]
    },
    {
      "cell_type": "code",
      "metadata": {
        "id": "msXNKAZ1Yi-4"
      },
      "source": [
        "from sklearn.model_selection import train_test_split\n",
        "\n",
        "X_train, X_test, y_train, y_test = train_test_split(df_balanced['Message'],df_balanced['spam'], stratify=df_balanced['spam'])"
      ],
      "execution_count": 14,
      "outputs": []
    },
    {
      "cell_type": "code",
      "metadata": {
        "scrolled": true,
        "colab": {
          "base_uri": "https://localhost:8080/"
        },
        "id": "TkWfL92RYi-5",
        "outputId": "d74e2b0a-0b09-4a08-c6c8-6f4caf886eb1"
      },
      "source": [
        "X_train.head(4)"
      ],
      "execution_count": 15,
      "outputs": [
        {
          "output_type": "execute_result",
          "data": {
            "text/plain": [
              "4834    New Mobiles from 2004, MUST GO! Txt: NOKIA to ...\n",
              "4924                Oh yah... We never cancel leh... Haha\n",
              "862                              Your brother is a genius\n",
              "1929    Call from 08702490080 - tells u 2 call 0906635...\n",
              "Name: Message, dtype: object"
            ]
          },
          "metadata": {},
          "execution_count": 15
        }
      ]
    },
    {
      "cell_type": "markdown",
      "metadata": {
        "id": "cM9LPs-RYi-5"
      },
      "source": [
        "<h4>Now lets import BERT model and get embeding vectors for few sample statements</h4>"
      ]
    },
    {
      "cell_type": "code",
      "metadata": {
        "id": "I8f4QxFrYi-5"
      },
      "source": [
        "bert_preprocess = hub.KerasLayer(\"https://tfhub.dev/tensorflow/bert_en_uncased_preprocess/3\")\n",
        "bert_encoder = hub.KerasLayer(\"https://tfhub.dev/tensorflow/small_bert/bert_en_uncased_L-12_H-128_A-2/2\")"
      ],
      "execution_count": 106,
      "outputs": []
    },
    {
      "cell_type": "code",
      "metadata": {
        "scrolled": true,
        "colab": {
          "base_uri": "https://localhost:8080/"
        },
        "id": "BoeYlGEWYi-5",
        "outputId": "a5d8bbf7-a8aa-42c6-91a1-7432ea81b041"
      },
      "source": [
        "def get_sentence_embedding(sentences):\n",
        "    preprocessed_text = bert_preprocess(sentences)\n",
        "    return bert_encoder(preprocessed_text)['pooled_output']\n",
        "\n",
        "get_sentence_embedding([\n",
        "    \"500$ discount. hurry up\", \n",
        "    \"Bhavin, are you up for a volleybal game tomorrow?\"]\n",
        ")"
      ],
      "execution_count": 107,
      "outputs": [
        {
          "output_type": "execute_result",
          "data": {
            "text/plain": [
              "<tf.Tensor: shape=(2, 128), dtype=float32, numpy=\n",
              "array([[ 0.9959294 ,  0.54937845, -0.17059089,  0.9307302 , -0.839425  ,\n",
              "        -0.8062609 ,  0.10320493, -0.01254707, -0.8349162 ,  0.62639236,\n",
              "         0.99062604, -0.9572671 ,  0.00416147, -0.16611162, -0.7415951 ,\n",
              "         0.46616432,  0.13030398, -0.548481  , -0.5582348 ,  0.20466858,\n",
              "        -0.8795259 ,  0.99975425,  0.35159498,  0.9977597 , -0.8877576 ,\n",
              "        -0.29746315,  0.17751692, -0.8887875 ,  0.3549734 ,  0.44167557,\n",
              "         0.97313184,  0.99551433,  0.07530776,  0.00141761,  0.19440353,\n",
              "         0.20965397, -0.94448465, -0.998574  , -0.87515855, -0.5595215 ,\n",
              "         0.99755085, -0.88181096,  0.9432055 ,  0.00786559,  0.33160868,\n",
              "         0.4868377 , -0.96451974, -0.95495576,  0.56235754,  0.73849654,\n",
              "         0.9703344 ,  0.7244811 ,  0.95124215, -0.8161786 , -0.0873585 ,\n",
              "        -0.86492723,  0.7111206 , -0.865234  ,  0.06383545,  0.9884006 ,\n",
              "         0.8626445 ,  0.9800195 ,  0.99111575, -0.10390419,  0.4424442 ,\n",
              "        -0.81425154,  0.13987707,  0.29995742, -0.9999533 , -0.2827316 ,\n",
              "         0.99389756, -0.3071144 ,  0.7984028 , -0.9398562 ,  0.79326737,\n",
              "         0.9527222 ,  0.52013856,  0.99792135, -0.18451186,  0.7720052 ,\n",
              "         0.9889708 , -0.5788163 , -0.55114424, -0.7324438 ,  0.11699442,\n",
              "         0.96285367, -0.11000523,  0.947976  ,  0.99124384,  0.674669  ,\n",
              "        -0.3292452 ,  0.7691739 , -0.9982513 , -0.03088848,  0.07250441,\n",
              "         0.63929063,  0.578436  , -0.07174288, -0.9801707 ,  0.06661104,\n",
              "        -0.04685806, -0.8483579 , -0.9539289 , -0.99936616,  0.09520695,\n",
              "         0.35870224,  0.970278  ,  0.99909395,  0.8859532 , -0.9996889 ,\n",
              "         0.956315  , -0.99758345,  0.02952243, -0.00795675, -0.77766144,\n",
              "        -0.60613894,  0.9961051 , -0.98609895, -0.0715959 , -0.96237576,\n",
              "        -0.2993848 ,  0.9236    , -0.992696  , -0.07443558, -0.75674325,\n",
              "        -0.992684  , -0.2361382 , -0.9647292 ],\n",
              "       [ 0.9993072 ,  0.86187613, -0.2862204 ,  0.08213311, -0.9923707 ,\n",
              "        -0.7022744 ,  0.15850267, -0.1654125 , -0.62797624,  0.86598146,\n",
              "         0.98250675, -0.75132436, -0.01989683,  0.09244042, -0.92953056,\n",
              "        -0.72346926,  0.4046244 ,  0.09469683, -0.579084  ,  0.9259577 ,\n",
              "        -0.8960421 ,  0.99789447,  0.769427  ,  0.9967214 , -0.2677213 ,\n",
              "         0.8503582 ,  0.13709451, -0.8557976 ,  0.92146224,  0.87229294,\n",
              "         0.33095855,  0.9896859 ,  0.11464918, -0.10168328,  0.05543695,\n",
              "         0.7912991 , -0.9808237 , -0.9993504 , -0.9788238 , -0.88690627,\n",
              "         0.86707646, -0.6452788 ,  0.9376645 ,  0.08284703, -0.33039835,\n",
              "         0.94501466, -0.9406298 , -0.9859008 , -0.5964115 ,  0.9321872 ,\n",
              "         0.6099676 ,  0.3298809 ,  0.9881195 , -0.09882442,  0.04902055,\n",
              "        -0.9444642 ,  0.88260084, -0.18111126, -0.10637386,  0.99687314,\n",
              "         0.8439608 ,  0.985297  ,  0.14533545, -0.14023706,  0.18517436,\n",
              "        -0.8109785 ,  0.07697476, -0.7786248 , -0.99994105, -0.4098148 ,\n",
              "         0.9957688 , -0.6759524 , -0.88392895, -0.94438106,  0.98614293,\n",
              "         0.70669526,  0.62058395,  0.97857976, -0.15650788,  0.951832  ,\n",
              "         0.92106473, -0.9429246 , -0.77827406, -0.9785074 ,  0.0911883 ,\n",
              "         0.84920347,  0.41959977,  0.9187642 ,  0.95809084,  0.93509436,\n",
              "        -0.26769593,  0.01052334, -0.9976795 ,  0.45745802, -0.18114568,\n",
              "         0.78468716,  0.6025147 , -0.09101857, -0.6026249 ,  0.1303321 ,\n",
              "        -0.14447384, -0.6490648 , -0.9696991 , -0.99913126,  0.07272397,\n",
              "         0.58100367,  0.9051885 ,  0.9987889 , -0.13694829, -0.98425794,\n",
              "         0.9508444 , -0.9965742 , -0.10877115, -0.15435322, -0.8097515 ,\n",
              "        -0.30284646,  0.98739475, -0.9699693 , -0.02616595, -0.8648391 ,\n",
              "        -0.20492962,  0.64226335, -0.9428305 , -0.15823327, -0.08025967,\n",
              "        -0.9945305 , -0.93616426, -0.9837267 ]], dtype=float32)>"
            ]
          },
          "metadata": {},
          "execution_count": 107
        }
      ]
    },
    {
      "cell_type": "markdown",
      "metadata": {
        "id": "y-7CowfbYi-7"
      },
      "source": [
        "<h4>Build Model</h4>"
      ]
    },
    {
      "cell_type": "markdown",
      "metadata": {
        "id": "kloRwUTkYi-8"
      },
      "source": [
        "There are two types of models you can build in tensorflow. \n",
        "\n",
        "(1) Sequential\n",
        "(2) Functional\n",
        "\n",
        "So far we have built sequential model. But below we will build functional model. More information on these two is here: https://becominghuman.ai/sequential-vs-functional-model-in-keras-20684f766057"
      ]
    },
    {
      "cell_type": "code",
      "metadata": {
        "id": "dJSmdqmFYi-8"
      },
      "source": [
        "# Bert layers\n",
        "text_input = tf.keras.layers.Input(shape=(), dtype=tf.string, name='text')\n",
        "preprocessed_text = bert_preprocess(text_input)\n",
        "outputs = bert_encoder(preprocessed_text)\n",
        "\n",
        "# Neural network layers\n",
        "l = tf.keras.layers.Dropout(0.1, name=\"dropout\")(outputs['pooled_output'])\n",
        "l = tf.keras.layers.Dense(1, activation='sigmoid', name=\"output\")(l)\n",
        "\n",
        "# Use inputs and outputs to construct a final model\n",
        "model = tf.keras.Model(inputs=[text_input], outputs = [l])"
      ],
      "execution_count": 113,
      "outputs": []
    },
    {
      "cell_type": "markdown",
      "metadata": {
        "id": "J3i-EZl4Yi-8"
      },
      "source": [
        "https://stackoverflow.com/questions/47605558/importerror-failed-to-import-pydot-you-must-install-pydot-and-graphviz-for-py"
      ]
    },
    {
      "cell_type": "code",
      "metadata": {
        "colab": {
          "base_uri": "https://localhost:8080/"
        },
        "id": "yV9vePHPYi-8",
        "outputId": "c9092511-3f9f-4350-e9a9-5b1b6a36abbd"
      },
      "source": [
        "model.summary()"
      ],
      "execution_count": 114,
      "outputs": [
        {
          "output_type": "stream",
          "name": "stdout",
          "text": [
            "Model: \"model_3\"\n",
            "__________________________________________________________________________________________________\n",
            "Layer (type)                    Output Shape         Param #     Connected to                     \n",
            "==================================================================================================\n",
            "text (InputLayer)               [(None,)]            0                                            \n",
            "__________________________________________________________________________________________________\n",
            "keras_layer_2 (KerasLayer)      {'input_word_ids': ( 0           text[0][0]                       \n",
            "__________________________________________________________________________________________________\n",
            "keras_layer_3 (KerasLayer)      {'default': (None, 1 6368641     keras_layer_2[1][0]              \n",
            "                                                                 keras_layer_2[1][1]              \n",
            "                                                                 keras_layer_2[1][2]              \n",
            "__________________________________________________________________________________________________\n",
            "dropout (Dropout)               (None, 128)          0           keras_layer_3[1][13]             \n",
            "__________________________________________________________________________________________________\n",
            "output (Dense)                  (None, 1)            129         dropout[0][0]                    \n",
            "==================================================================================================\n",
            "Total params: 6,368,770\n",
            "Trainable params: 129\n",
            "Non-trainable params: 6,368,641\n",
            "__________________________________________________________________________________________________\n"
          ]
        }
      ]
    },
    {
      "cell_type": "code",
      "metadata": {
        "colab": {
          "base_uri": "https://localhost:8080/",
          "height": 466
        },
        "id": "7rRdSdTKbPMK",
        "outputId": "c722d171-ec09-4040-f617-18f32ef2695b"
      },
      "source": [
        "tf.keras.utils.plot_model(model)"
      ],
      "execution_count": 115,
      "outputs": [
        {
          "output_type": "execute_result",
          "data": {
            "image/png": "[encoded data removed]",
            "text/plain": [
              "<IPython.core.display.Image object>"
            ]
          },
          "metadata": {},
          "execution_count": 115
        }
      ]
    },
    {
      "cell_type": "code",
      "metadata": {
        "colab": {
          "base_uri": "https://localhost:8080/"
        },
        "id": "amyPR4Q-Yi-9",
        "outputId": "6101900c-6795-4e2c-baf1-05c57d1a8db0"
      },
      "source": [
        "len(X_train)"
      ],
      "execution_count": 116,
      "outputs": [
        {
          "output_type": "execute_result",
          "data": {
            "text/plain": [
              "1120"
            ]
          },
          "metadata": {},
          "execution_count": 116
        }
      ]
    },
    {
      "cell_type": "code",
      "metadata": {
        "id": "aQGKikpRYi-9"
      },
      "source": [
        "METRICS = [\n",
        "      tf.keras.metrics.BinaryAccuracy(name='accuracy'),\n",
        "      tf.keras.metrics.Precision(name='precision'),\n",
        "      tf.keras.metrics.Recall(name='recall')\n",
        "]\n",
        "\n",
        "model.compile(optimizer='adam',\n",
        "              loss='binary_crossentropy',\n",
        "              metrics=METRICS)"
      ],
      "execution_count": 119,
      "outputs": []
    },
    {
      "cell_type": "markdown",
      "metadata": {
        "id": "pZQdGMPPYi-9"
      },
      "source": [
        "<h4>Train the model</h4>"
      ]
    },
    {
      "cell_type": "code",
      "metadata": {
        "colab": {
          "base_uri": "https://localhost:8080/"
        },
        "id": "6EUx7ViyYi-9",
        "outputId": "51127a00-d0b3-40f4-8171-34591d46b244"
      },
      "source": [
        "model.fit(X_train, y_train, epochs=20)"
      ],
      "execution_count": 120,
      "outputs": [
        {
          "output_type": "stream",
          "name": "stdout",
          "text": [
            "Epoch 1/20\n",
            "35/35 [==============================] - 9s 176ms/step - loss: 0.2400 - accuracy: 0.9286 - precision: 0.9211 - recall: 0.9375\n",
            "Epoch 2/20\n",
            "35/35 [==============================] - 6s 177ms/step - loss: 0.2258 - accuracy: 0.9277 - precision: 0.9331 - recall: 0.9214\n",
            "Epoch 3/20\n",
            "35/35 [==============================] - 6s 172ms/step - loss: 0.2224 - accuracy: 0.9330 - precision: 0.9292 - recall: 0.9375\n",
            "Epoch 4/20\n",
            "35/35 [==============================] - 6s 173ms/step - loss: 0.2107 - accuracy: 0.9214 - precision: 0.9055 - recall: 0.9411\n",
            "Epoch 5/20\n",
            "35/35 [==============================] - 6s 172ms/step - loss: 0.2081 - accuracy: 0.9330 - precision: 0.9277 - recall: 0.9393\n",
            "Epoch 6/20\n",
            "35/35 [==============================] - 6s 171ms/step - loss: 0.2010 - accuracy: 0.9259 - precision: 0.9221 - recall: 0.9304\n",
            "Epoch 7/20\n",
            "35/35 [==============================] - 6s 171ms/step - loss: 0.2047 - accuracy: 0.9304 - precision: 0.9199 - recall: 0.9429\n",
            "Epoch 8/20\n",
            "35/35 [==============================] - 6s 179ms/step - loss: 0.1954 - accuracy: 0.9348 - precision: 0.9325 - recall: 0.9375\n",
            "Epoch 9/20\n",
            "35/35 [==============================] - 6s 174ms/step - loss: 0.1942 - accuracy: 0.9321 - precision: 0.9261 - recall: 0.9393\n",
            "Epoch 10/20\n",
            "35/35 [==============================] - 6s 168ms/step - loss: 0.1970 - accuracy: 0.9339 - precision: 0.9263 - recall: 0.9429\n",
            "Epoch 11/20\n",
            "35/35 [==============================] - 6s 174ms/step - loss: 0.1886 - accuracy: 0.9375 - precision: 0.9329 - recall: 0.9429\n",
            "Epoch 12/20\n",
            "35/35 [==============================] - 6s 171ms/step - loss: 0.1935 - accuracy: 0.9366 - precision: 0.9343 - recall: 0.9393\n",
            "Epoch 13/20\n",
            "35/35 [==============================] - 6s 169ms/step - loss: 0.1913 - accuracy: 0.9366 - precision: 0.9267 - recall: 0.9482\n",
            "Epoch 14/20\n",
            "35/35 [==============================] - 6s 173ms/step - loss: 0.1881 - accuracy: 0.9330 - precision: 0.9401 - recall: 0.9250\n",
            "Epoch 15/20\n",
            "35/35 [==============================] - 6s 173ms/step - loss: 0.1851 - accuracy: 0.9330 - precision: 0.9188 - recall: 0.9500\n",
            "Epoch 16/20\n",
            "35/35 [==============================] - 6s 175ms/step - loss: 0.1819 - accuracy: 0.9384 - precision: 0.9408 - recall: 0.9357\n",
            "Epoch 17/20\n",
            "35/35 [==============================] - 6s 170ms/step - loss: 0.1794 - accuracy: 0.9366 - precision: 0.9297 - recall: 0.9446\n",
            "Epoch 18/20\n",
            "35/35 [==============================] - 6s 171ms/step - loss: 0.1806 - accuracy: 0.9411 - precision: 0.9395 - recall: 0.9429\n",
            "Epoch 19/20\n",
            "35/35 [==============================] - 6s 167ms/step - loss: 0.1843 - accuracy: 0.9375 - precision: 0.9329 - recall: 0.9429\n",
            "Epoch 20/20\n",
            "35/35 [==============================] - 6s 173ms/step - loss: 0.1788 - accuracy: 0.9393 - precision: 0.9377 - recall: 0.9411\n"
          ]
        },
        {
          "output_type": "execute_result",
          "data": {
            "text/plain": [
              "<keras.callbacks.History at 0x7fa7d6c4fd90>"
            ]
          },
          "metadata": {},
          "execution_count": 120
        }
      ]
    },
    {
      "cell_type": "code",
      "metadata": {
        "scrolled": true,
        "colab": {
          "base_uri": "https://localhost:8080/"
        },
        "id": "eP-2RdqRYi-9",
        "outputId": "6e3d7793-2216-4759-d6d8-9568bf85d599"
      },
      "source": [
        "model.evaluate(X_test, y_test)"
      ],
      "execution_count": 76,
      "outputs": [
        {
          "output_type": "stream",
          "name": "stdout",
          "text": [
            "12/12 [==============================] - 8s 597ms/step - loss: 0.2415 - accuracy: 0.9251 - precision: 0.8878 - recall: 0.9733\n"
          ]
        },
        {
          "output_type": "execute_result",
          "data": {
            "text/plain": [
              "[0.24146045744419098,\n",
              " 0.9251337051391602,\n",
              " 0.8878048658370972,\n",
              " 0.9732620120048523]"
            ]
          },
          "metadata": {},
          "execution_count": 76
        }
      ]
    },
    {
      "cell_type": "code",
      "metadata": {
        "id": "hDO1Fc9GYi--"
      },
      "source": [
        "y_predicted = model.predict(X_test)\n",
        "y_predicted = y_predicted.flatten()"
      ],
      "execution_count": 77,
      "outputs": []
    },
    {
      "cell_type": "code",
      "metadata": {
        "scrolled": false,
        "colab": {
          "base_uri": "https://localhost:8080/"
        },
        "id": "KwATVw8aYi--",
        "outputId": "abf5cf0c-efa5-40b2-d421-d96305ab9a17"
      },
      "source": [
        "import numpy as np\n",
        "\n",
        "y_predicted = np.where(y_predicted > 0.5, 1, 0)\n",
        "y_predicted"
      ],
      "execution_count": 78,
      "outputs": [
        {
          "output_type": "execute_result",
          "data": {
            "text/plain": [
              "array([0, 0, 1, 1, 1, 1, 1, 0, 0, 1, 1, 1, 1, 1, 1, 0, 0, 0, 0, 0, 1, 0,\n",
              "       1, 0, 1, 1, 0, 0, 1, 0, 0, 1, 0, 0, 1, 0, 1, 1, 0, 1, 1, 0, 0, 1,\n",
              "       0, 0, 1, 1, 1, 0, 1, 1, 1, 0, 0, 0, 1, 1, 1, 1, 0, 0, 0, 0, 0, 0,\n",
              "       1, 1, 1, 1, 1, 1, 1, 1, 1, 1, 0, 0, 0, 0, 1, 0, 0, 1, 1, 1, 0, 0,\n",
              "       1, 1, 1, 0, 0, 1, 0, 0, 0, 1, 0, 0, 1, 0, 1, 0, 1, 0, 0, 1, 1, 1,\n",
              "       0, 1, 0, 0, 0, 1, 0, 0, 1, 0, 0, 1, 1, 1, 0, 1, 0, 1, 0, 0, 0, 0,\n",
              "       0, 1, 0, 0, 0, 0, 1, 0, 1, 0, 1, 0, 0, 0, 1, 1, 1, 0, 0, 0, 1, 1,\n",
              "       0, 0, 1, 0, 0, 0, 1, 1, 1, 0, 0, 0, 1, 0, 1, 1, 1, 0, 1, 0, 1, 0,\n",
              "       1, 1, 1, 0, 0, 0, 0, 1, 0, 1, 0, 1, 1, 0, 1, 0, 0, 1, 1, 1, 1, 1,\n",
              "       0, 0, 1, 1, 1, 1, 1, 1, 1, 1, 1, 1, 1, 1, 0, 1, 1, 0, 1, 1, 0, 0,\n",
              "       1, 1, 1, 1, 1, 0, 1, 0, 0, 1, 1, 1, 1, 1, 1, 0, 0, 1, 1, 1, 0, 1,\n",
              "       1, 1, 0, 0, 0, 1, 0, 1, 1, 1, 1, 1, 1, 1, 0, 1, 1, 0, 1, 0, 1, 1,\n",
              "       0, 1, 1, 0, 0, 0, 1, 1, 0, 0, 0, 1, 1, 0, 1, 1, 1, 1, 0, 0, 0, 1,\n",
              "       0, 1, 1, 0, 1, 1, 1, 1, 1, 0, 1, 0, 1, 1, 1, 0, 1, 1, 1, 0, 0, 0,\n",
              "       1, 0, 0, 0, 1, 0, 1, 1, 0, 1, 1, 1, 1, 1, 1, 1, 0, 1, 0, 1, 1, 1,\n",
              "       0, 1, 1, 0, 1, 0, 0, 1, 0, 0, 1, 1, 0, 1, 0, 0, 0, 0, 1, 1, 1, 1,\n",
              "       0, 1, 1, 0, 1, 1, 1, 0, 0, 0, 1, 0, 0, 1, 0, 0, 0, 1, 1, 0, 0, 0])"
            ]
          },
          "metadata": {},
          "execution_count": 78
        }
      ]
    },
    {
      "cell_type": "code",
      "metadata": {
        "colab": {
          "base_uri": "https://localhost:8080/"
        },
        "id": "cBfXCkEtYi--",
        "outputId": "e8f876f2-94c0-4c4c-deaf-56b772c84656"
      },
      "source": [
        "from sklearn.metrics import confusion_matrix, classification_report\n",
        "\n",
        "cm = confusion_matrix(y_test, y_predicted)\n",
        "cm "
      ],
      "execution_count": 79,
      "outputs": [
        {
          "output_type": "execute_result",
          "data": {
            "text/plain": [
              "array([[164,  23],\n",
              "       [  5, 182]])"
            ]
          },
          "metadata": {},
          "execution_count": 79
        }
      ]
    },
    {
      "cell_type": "code",
      "metadata": {
        "colab": {
          "base_uri": "https://localhost:8080/",
          "height": 298
        },
        "id": "ofSJWlQqYi--",
        "outputId": "38c23649-a7d8-414a-b74a-4c4342ca2742"
      },
      "source": [
        "from matplotlib import pyplot as plt\n",
        "import seaborn as sn\n",
        "sn.heatmap(cm, annot=True, fmt='d')\n",
        "plt.xlabel('Predicted')\n",
        "plt.ylabel('Truth')"
      ],
      "execution_count": 80,
      "outputs": [
        {
          "output_type": "execute_result",
          "data": {
            "text/plain": [
              "Text(33.0, 0.5, 'Truth')"
            ]
          },
          "metadata": {},
          "execution_count": 80
        },
        {
          "output_type": "display_data",
          "data": {
            "image/png": "[encoded data removed]",
            "text/plain": [
              "<Figure size 432x288 with 2 Axes>"
            ]
          },
          "metadata": {
            "needs_background": "light"
          }
        }
      ]
    },
    {
      "cell_type": "code",
      "metadata": {
        "colab": {
          "base_uri": "https://localhost:8080/"
        },
        "id": "wCkjEf5RYi--",
        "outputId": "752c93df-9fdc-4c9d-fa5a-afd409ba8563"
      },
      "source": [
        "print(classification_report(y_test, y_predicted))"
      ],
      "execution_count": 81,
      "outputs": [
        {
          "output_type": "stream",
          "name": "stdout",
          "text": [
            "              precision    recall  f1-score   support\n",
            "\n",
            "           0       0.97      0.88      0.92       187\n",
            "           1       0.89      0.97      0.93       187\n",
            "\n",
            "    accuracy                           0.93       374\n",
            "   macro avg       0.93      0.93      0.92       374\n",
            "weighted avg       0.93      0.93      0.92       374\n",
            "\n"
          ]
        }
      ]
    },
    {
      "cell_type": "markdown",
      "metadata": {
        "id": "6wgoieg4Yi--"
      },
      "source": [
        "<h4>Inference</h4>"
      ]
    },
    {
      "cell_type": "code",
      "metadata": {
        "colab": {
          "base_uri": "https://localhost:8080/"
        },
        "id": "X2aYbyD1Yi-_",
        "outputId": "894bd77c-d663-464c-ea70-63745920bea9"
      },
      "source": [
        "reviews = [\n",
        "    'Enter a chance to win $5000, hurry up, offer valid until march 31, 2021',\n",
        "    'You are awarded a SiPix Digital Camera! call 09061221061 from landline. Delivery within 28days. T Cs Box177. M221BP. 2yr warranty. 150ppm. 16 . p pÂ£3.99',\n",
        "    'it to 80488. Your 500 free text messages are valid until 31 December 2005.',\n",
        "    'Hey Sam, Are you coming for a cricket game tomorrow',\n",
        "    \"Why don't you wait 'til at least wednesday to see if you get your .\",\n",
        "    \"Hi. Your loan amount for Rs.70000.00/- is successfully approved.\"\n",
        "]\n",
        "model.predict(reviews)"
      ],
      "execution_count": 82,
      "outputs": [
        {
          "output_type": "execute_result",
          "data": {
            "text/plain": [
              "array([[0.8444062 ],\n",
              "       [0.91063744],\n",
              "       [0.8796493 ],\n",
              "       [0.31810027],\n",
              "       [0.12575856],\n",
              "       [0.7018306 ]], dtype=float32)"
            ]
          },
          "metadata": {},
          "execution_count": 82
        }
      ]
    },
    {
      "cell_type": "code",
      "metadata": {
        "id": "xE1QEDv3kEfE"
      },
      "source": [
        "model.save('spam_mod_1.h5')"
      ],
      "execution_count": 130,
      "outputs": []
    },
    {
      "cell_type": "code",
      "metadata": {
        "colab": {
          "base_uri": "https://localhost:8080/"
        },
        "id": "kwAFGM5Qkuff",
        "outputId": "b9ec578d-aaef-4d3f-d611-4f3d223ebc58"
      },
      "source": [
        "tf.keras.models.save_model(model, \"spam_keras_bert\")"
      ],
      "execution_count": 127,
      "outputs": [
        {
          "output_type": "stream",
          "name": "stderr",
          "text": [
            "WARNING:absl:Found untraced functions such as restored_function_body, restored_function_body, restored_function_body, restored_function_body, restored_function_body while saving (showing 5 of 915). These functions will not be directly callable after loading.\n"
          ]
        },
        {
          "output_type": "stream",
          "name": "stdout",
          "text": [
            "INFO:tensorflow:Assets written to: spam_keras_bert/assets\n"
          ]
        },
        {
          "output_type": "stream",
          "name": "stderr",
          "text": [
            "INFO:tensorflow:Assets written to: spam_keras_bert/assets\n"
          ]
        }
      ]
    },
    {
      "cell_type": "code",
      "metadata": {
        "id": "1g-uAR8ilAz4"
      },
      "source": [
        "new_model = tf.keras.models.load_model(\"spam_mod_1.h5\", custom_objects={'KerasLayer':hub.KerasLayer})"
      ],
      "execution_count": 131,
      "outputs": []
    },
    {
      "cell_type": "code",
      "metadata": {
        "id": "n8ABzpEBlJ83"
      },
      "source": [
        "reloaded_model = tf.keras.models.load_model('spam_keras_bert')"
      ],
      "execution_count": 128,
      "outputs": []
    },
    {
      "cell_type": "code",
      "metadata": {
        "colab": {
          "base_uri": "https://localhost:8080/"
        },
        "id": "wwdKpSYSo7CY",
        "outputId": "e24ba75b-1f5a-4fd8-e6c7-a18308e0921c"
      },
      "source": [
        "new_model.summary()"
      ],
      "execution_count": 132,
      "outputs": [
        {
          "output_type": "stream",
          "name": "stdout",
          "text": [
            "Model: \"model_3\"\n",
            "__________________________________________________________________________________________________\n",
            "Layer (type)                    Output Shape         Param #     Connected to                     \n",
            "==================================================================================================\n",
            "text (InputLayer)               [(None,)]            0                                            \n",
            "__________________________________________________________________________________________________\n",
            "keras_layer_2 (KerasLayer)      {'input_type_ids': ( 0           text[0][0]                       \n",
            "__________________________________________________________________________________________________\n",
            "keras_layer_3 (KerasLayer)      {'sequence_output':  6368641     keras_layer_2[0][0]              \n",
            "                                                                 keras_layer_2[0][1]              \n",
            "                                                                 keras_layer_2[0][2]              \n",
            "__________________________________________________________________________________________________\n",
            "dropout (Dropout)               (None, 128)          0           keras_layer_3[0][13]             \n",
            "__________________________________________________________________________________________________\n",
            "output (Dense)                  (None, 1)            129         dropout[0][0]                    \n",
            "==================================================================================================\n",
            "Total params: 6,368,770\n",
            "Trainable params: 129\n",
            "Non-trainable params: 6,368,641\n",
            "__________________________________________________________________________________________________\n"
          ]
        }
      ]
    },
    {
      "cell_type": "code",
      "metadata": {
        "id": "Hsulg7WLuNCu"
      },
      "source": [
        ""
      ],
      "execution_count": null,
      "outputs": []
    }
  ]
}